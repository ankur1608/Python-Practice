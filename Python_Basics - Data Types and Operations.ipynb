{
 "cells": [
  {
   "cell_type": "markdown",
   "id": "246f3913",
   "metadata": {},
   "source": [
    "# Data types in python"
   ]
  },
  {
   "cell_type": "markdown",
   "id": "2ecb044a",
   "metadata": {},
   "source": [
    "### 1) List : It is Mutable (Mutable: elements can be changed)\n",
    "\n",
    "An empty list  is represented as []. <br><br>\n",
    "\n",
    "Below finctions are supported: <br><br>\n",
    "Mutable Operations: <br>\n",
    "a) append  --> append in last <br>\n",
    "b) insert  --> to append in specific position <br>\n",
    "c) ls[0] = \"test\"  --> update value on particular position <br>\n",
    "d) del listName[3]  --> delete entry from position #3  <br>\n",
    "e) listName.remove(element)  --> remove particular value from the list  <br>\n",
    "f) ls2 = listName.copy()  --> to copy a list so that changes of one list will not effect another list <br>\n",
    "g) listName.sort(), listName.sort(reverse=True)  --> sorting list in assending or desending order  <br>\n",
    "h) pop()  --> to remove an element from end of list <br><br><br>\n",
    "\n",
    "Normal Operations:<br>\n",
    "a) len   --> size of list<br>\n",
    "b) listName[position]  --> to nevigate <br>\n",
    "c) in    --> check membership in list<br>\n",
    "d) not in   <br>\n",
    "e) * inetger   --> multiply with integer (it will repeat the same list that many times) <br>\n",
    "f) +  --> concatenate the list with another or dynamic list <br>\n",
    "g) listName[start:stop:step]   --> slice the list, default start: 0, default end: len(listName), default step: 1\n"
   ]
  },
  {
   "cell_type": "code",
   "execution_count": 22,
   "id": "150eda35",
   "metadata": {},
   "outputs": [
    {
     "name": "stdout",
     "output_type": "stream",
     "text": [
      "['True', 3, 5, 'act', 99.99, 2.5, 'India']\n"
     ]
    }
   ],
   "source": [
    "ls =  [3,5,\"act\",2.5,\"India\"]\n",
    "ls.insert(0,\"True\")\n",
    "ls.insert(-2,99.99)\n",
    "print(ls)"
   ]
  },
  {
   "cell_type": "markdown",
   "id": "81033224",
   "metadata": {},
   "source": [
    "### 2) Tuples:  immutable<br>\n",
    "\n",
    "An empty tuple is represented as (). <br><br>\n",
    "\n",
    "Below finctions are supported: <br><br>\n",
    "a) len <br>\n",
    "b) tupleName[position]   --> To nevigate <br>\n",
    "c) tupleName[start:stop:stepSize]  --> Slicing. default start: 0, default end: len(listName), default step: 1 <br>\n",
    "d) tupleName*integer  --> Repeating the tuple <br>\n",
    "e) + <br>\n",
    "f) in <br>\n",
    "g) not in\n"
   ]
  },
  {
   "cell_type": "code",
   "execution_count": 23,
   "id": "2bbaae32",
   "metadata": {},
   "outputs": [],
   "source": [
    "t1 = (4,3,7,8,5,)"
   ]
  },
  {
   "cell_type": "markdown",
   "id": "776f0665",
   "metadata": {},
   "source": [
    "### 3) Dictionary: key-value pair \n",
    "(Dictionay are unordered collections and hashMap function implementation of python)<br>\n",
    "\n",
    "Keys are immutable while values are mutable <br>\n",
    "An empty dict is represented as {} <br><br>\n",
    "\n",
    "Keys shuold be unique. If duplicate keys are used, then it will use the last updated one.\n",
    "dict = {1:23,2:45,1:56} <br>\n",
    "print(dict)<br>\n",
    "output: {1:56,2:45} <br>\n",
    "\n",
    "- we can use list or dict as keys as these are mutable but can be used in values\n",
    "- tuples can be used as key\n",
    "\n",
    "##### Operations: \n",
    "- update    --> update the dict \n",
    "- del  --> delete element from dict\n",
    "- len\n",
    "- in   --> check if key in dict\n",
    "- not in\n"
   ]
  },
  {
   "cell_type": "code",
   "execution_count": 24,
   "id": "588fc8a7",
   "metadata": {},
   "outputs": [
    {
     "name": "stdout",
     "output_type": "stream",
     "text": [
      "{1: 56, 2: 45}\n"
     ]
    }
   ],
   "source": [
    "dict1 = {1:23,2:45,1:56}\n",
    "print(dict1)"
   ]
  },
  {
   "cell_type": "code",
   "execution_count": 21,
   "id": "36cf1882",
   "metadata": {},
   "outputs": [
    {
     "name": "stdout",
     "output_type": "stream",
     "text": [
      "56\n"
     ]
    }
   ],
   "source": [
    "print(dict1[1])"
   ]
  },
  {
   "cell_type": "code",
   "execution_count": 3,
   "id": "9b759d6f",
   "metadata": {},
   "outputs": [
    {
     "name": "stdout",
     "output_type": "stream",
     "text": [
      "{1: 56, 2: 45, 5: 'abe'}\n"
     ]
    }
   ],
   "source": [
    "dict1.update({5:'abe'})\n",
    "print(dict1)"
   ]
  },
  {
   "cell_type": "code",
   "execution_count": 4,
   "id": "a8c580c9",
   "metadata": {},
   "outputs": [
    {
     "name": "stdout",
     "output_type": "stream",
     "text": [
      "{1: 56, 5: 'abe'}\n"
     ]
    }
   ],
   "source": [
    "del dict1[2]\n",
    "print(dict1)"
   ]
  },
  {
   "cell_type": "code",
   "execution_count": 5,
   "id": "55bdf3a6",
   "metadata": {},
   "outputs": [
    {
     "name": "stdout",
     "output_type": "stream",
     "text": [
      "2\n"
     ]
    }
   ],
   "source": [
    "print(len(dict1))"
   ]
  },
  {
   "cell_type": "code",
   "execution_count": 6,
   "id": "227e4682",
   "metadata": {},
   "outputs": [
    {
     "name": "stdout",
     "output_type": "stream",
     "text": [
      "True\n"
     ]
    }
   ],
   "source": [
    "print(5 in dict1)"
   ]
  },
  {
   "cell_type": "markdown",
   "id": "dbdfde96",
   "metadata": {},
   "source": [
    "##### Traverse the dict"
   ]
  },
  {
   "cell_type": "code",
   "execution_count": 8,
   "id": "1e3de503",
   "metadata": {},
   "outputs": [
    {
     "name": "stdout",
     "output_type": "stream",
     "text": [
      "1\n",
      "2\n",
      "3\n",
      "4\n",
      "5\n"
     ]
    }
   ],
   "source": [
    "dict1 = {1: 'a', 2: 'x', 3:'r', 4:'t',5:'b'}\n",
    "\n",
    "for i in dict1.keys():\n",
    "    print(i)"
   ]
  },
  {
   "cell_type": "code",
   "execution_count": 9,
   "id": "a6174592",
   "metadata": {},
   "outputs": [
    {
     "name": "stdout",
     "output_type": "stream",
     "text": [
      "a\n",
      "x\n",
      "r\n",
      "t\n",
      "b\n"
     ]
    }
   ],
   "source": [
    "for i in dict1.values():\n",
    "    print(i)"
   ]
  },
  {
   "cell_type": "code",
   "execution_count": 13,
   "id": "bbc91948",
   "metadata": {},
   "outputs": [
    {
     "name": "stdout",
     "output_type": "stream",
     "text": [
      "1 : a\n",
      "2 : x\n",
      "3 : r\n",
      "4 : t\n",
      "5 : b\n"
     ]
    }
   ],
   "source": [
    "for i,j in dict1.items():\n",
    "    print(i, \":\", j)"
   ]
  },
  {
   "cell_type": "code",
   "execution_count": 17,
   "id": "e3302c44",
   "metadata": {},
   "outputs": [
    {
     "name": "stdout",
     "output_type": "stream",
     "text": [
      "(1, 'a')\n",
      "(2, 'x')\n",
      "(3, 'r')\n",
      "(4, 't')\n",
      "(5, 'b')\n",
      "<class 'tuple'>\n"
     ]
    }
   ],
   "source": [
    "for i in dict1.items():\n",
    "    print(i)\n",
    "    \n",
    "print(type(i))"
   ]
  },
  {
   "cell_type": "markdown",
   "id": "862d8e5b",
   "metadata": {},
   "source": [
    "### 4) Sets: A set is a collection which is unordered, immutable , and unindexed.\n",
    "It is hash function implementation of python. <br>\n",
    "\n",
    "##### Operations:\n",
    "- len()\n",
    "- in\n",
    "- not in\n",
    "- add()\t--> Adds an element to the set\n",
    "- clear() -->\tRemoves all the elements from the set\n",
    "- copy() -->\tReturns a copy of the set\n",
    "- difference() -->\tReturn a set that contains the items that only exist in set x, and not in set y\n",
    "- difference_update() -->\tRemoves the items in this set that are also included in another, specified set\n",
    "- symmetric_difference() -->\tReturns a set with the item of both the sets except common items in both.\n",
    "- symmetric_difference_update()\t--> inserts the symmetric differences from this set and another\n",
    "- remove()\t--> Removes the specified element\n",
    "- discard()\t--> Remove the specified item\n",
    "- intersection() -->\tReturns a set, that is the intersection of two other sets\n",
    "- intersection_update()\t --> Removes the items in this set that are not present in other, specified set(s)\n",
    "- isdisjoint() --> Return True if no items in set x is present in set y.\n",
    "- issubset() --> Return True if all items in set x are present in set y\n",
    "- issuperset()\t--> Return True if all items set y are present in set x\n",
    "- pop()\t--> Removes an element from the set\n",
    "- union()\t--> Return a set containing the union of sets\n",
    "- update() --> \tUpdate the set with the union of this set and others\n",
    "\n",
    "\n",
    "<br>\n",
    "Note: remove() and discard() bith are similar but If the item to remove does not exist <br>\n",
    "- remove() will raise an error. <br>\n",
    "- discard() will NOT raise an error. <br>"
   ]
  },
  {
   "cell_type": "code",
   "execution_count": 61,
   "id": "d617a146",
   "metadata": {},
   "outputs": [
    {
     "name": "stdout",
     "output_type": "stream",
     "text": [
      "{'cherry', 'apple', 'banana'}\n"
     ]
    }
   ],
   "source": [
    "# Representation\n",
    "thisset = {\"apple\", \"banana\", \"cherry\"}\n",
    "print(thisset)"
   ]
  },
  {
   "cell_type": "code",
   "execution_count": 62,
   "id": "abcaf506",
   "metadata": {},
   "outputs": [
    {
     "name": "stdout",
     "output_type": "stream",
     "text": [
      "{'cherry', 'apple', 'banana'}\n"
     ]
    }
   ],
   "source": [
    "# Duplicates Not Allowed in set\n",
    "\n",
    "thisset = {\"apple\", \"banana\", \"cherry\", \"apple\"}\n",
    "print(thisset)"
   ]
  },
  {
   "cell_type": "code",
   "execution_count": 63,
   "id": "b29175d8",
   "metadata": {},
   "outputs": [
    {
     "name": "stdout",
     "output_type": "stream",
     "text": [
      "{'cherry', 'apple', 'banana'}\n"
     ]
    }
   ],
   "source": [
    "thisset = set((\"apple\", \"banana\", \"cherry\")) # note the double round-brackets\n",
    "print(thisset)"
   ]
  },
  {
   "cell_type": "code",
   "execution_count": 65,
   "id": "8bb407bf",
   "metadata": {},
   "outputs": [
    {
     "name": "stdout",
     "output_type": "stream",
     "text": [
      "3\n"
     ]
    }
   ],
   "source": [
    "print(len(thisset))"
   ]
  },
  {
   "cell_type": "code",
   "execution_count": 67,
   "id": "232486e4",
   "metadata": {},
   "outputs": [
    {
     "name": "stdout",
     "output_type": "stream",
     "text": [
      "cherry\n",
      "apple\n",
      "banana\n"
     ]
    }
   ],
   "source": [
    "# access values from set\n",
    "\n",
    "for i in thisset:\n",
    "    print(i)"
   ]
  },
  {
   "cell_type": "code",
   "execution_count": 68,
   "id": "1c07db86",
   "metadata": {},
   "outputs": [
    {
     "name": "stdout",
     "output_type": "stream",
     "text": [
      "{'cherry', 'apple', 'banana', 'grapes'}\n"
     ]
    }
   ],
   "source": [
    "thisset.add(\"grapes\")\n",
    "print(thisset)"
   ]
  },
  {
   "cell_type": "code",
   "execution_count": 70,
   "id": "f3b75820",
   "metadata": {},
   "outputs": [],
   "source": [
    "thisset2 = {\"kiwi\", \"mango\"}"
   ]
  },
  {
   "cell_type": "code",
   "execution_count": 71,
   "id": "532bd2b3",
   "metadata": {},
   "outputs": [
    {
     "name": "stdout",
     "output_type": "stream",
     "text": [
      "{'mango', 'kiwi', 'cherry', 'apple', 'banana', 'grapes'}\n"
     ]
    }
   ],
   "source": [
    "thisset.update(thisset2)\n",
    "print(thisset)"
   ]
  },
  {
   "cell_type": "code",
   "execution_count": 72,
   "id": "aa89b487",
   "metadata": {},
   "outputs": [
    {
     "name": "stdout",
     "output_type": "stream",
     "text": [
      "{'kiwi', 'orange', 'cherry', 'apple', 'banana'}\n"
     ]
    }
   ],
   "source": [
    "## The object in the update() method does not have to be a set, it can be any iterable object (tuples, lists, dictionaries etc.).\n",
    "\n",
    "thisset = {\"apple\", \"banana\", \"cherry\"}\n",
    "mylist = [\"kiwi\", \"orange\"]\n",
    "\n",
    "thisset.update(mylist)\n",
    "\n",
    "print(thisset)"
   ]
  },
  {
   "cell_type": "code",
   "execution_count": 73,
   "id": "13563530",
   "metadata": {},
   "outputs": [
    {
     "name": "stdout",
     "output_type": "stream",
     "text": [
      "{'cherry', 'apple'}\n"
     ]
    }
   ],
   "source": [
    "thisset = {\"apple\", \"banana\", \"cherry\"}\n",
    "\n",
    "thisset.remove(\"banana\")\n",
    "\n",
    "print(thisset)"
   ]
  },
  {
   "cell_type": "code",
   "execution_count": 76,
   "id": "b52922aa",
   "metadata": {},
   "outputs": [
    {
     "name": "stdout",
     "output_type": "stream",
     "text": [
      "{'apple'}\n"
     ]
    }
   ],
   "source": [
    "x = {\"apple\", \"banana\", \"cherry\"}\n",
    "y = {\"google\", \"microsoft\", \"apple\"}\n",
    "\n",
    "z = x.intersection(y)\n",
    "\n",
    "print(z)"
   ]
  },
  {
   "cell_type": "code",
   "execution_count": 77,
   "id": "ecbd38b0",
   "metadata": {},
   "outputs": [
    {
     "name": "stdout",
     "output_type": "stream",
     "text": [
      "{'microsoft', 'cherry', 'apple', 'banana', 'google'}\n"
     ]
    }
   ],
   "source": [
    "x = {\"apple\", \"banana\", \"cherry\"}\n",
    "y = {\"google\", \"microsoft\", \"apple\"}\n",
    "\n",
    "z = x.union(y)\n",
    "\n",
    "print(z)"
   ]
  },
  {
   "cell_type": "code",
   "execution_count": 84,
   "id": "13d19fd4",
   "metadata": {},
   "outputs": [
    {
     "name": "stdout",
     "output_type": "stream",
     "text": [
      "{'google', 'cherry', 'banana', 'microsoft'}\n",
      "{'cherry', 'banana'}\n"
     ]
    }
   ],
   "source": [
    "x = {\"apple\", \"banana\", \"cherry\"}\n",
    "y = {\"google\", \"microsoft\", \"apple\"}\n",
    "\n",
    "z = x.symmetric_difference(y)\n",
    "k = x.difference(y)\n",
    "\n",
    "\n",
    "print(z)\n",
    "print(k)"
   ]
  },
  {
   "cell_type": "code",
   "execution_count": 80,
   "id": "d7a77f63",
   "metadata": {},
   "outputs": [
    {
     "name": "stdout",
     "output_type": "stream",
     "text": [
      "True\n"
     ]
    }
   ],
   "source": [
    "x = {\"apple\", \"banana\", \"cherry\"}\n",
    "y = {\"google\", \"microsoft\", \"facebook\"}\n",
    "\n",
    "z = x.isdisjoint(y)\n",
    "\n",
    "print(z)"
   ]
  },
  {
   "cell_type": "code",
   "execution_count": 81,
   "id": "9be2c712",
   "metadata": {},
   "outputs": [
    {
     "name": "stdout",
     "output_type": "stream",
     "text": [
      "True\n"
     ]
    }
   ],
   "source": [
    "x = {\"a\", \"b\", \"c\"}\n",
    "y = {\"f\", \"e\", \"d\", \"c\", \"b\", \"a\"}\n",
    "\n",
    "z = x.issubset(y)\n",
    "\n",
    "print(z)"
   ]
  },
  {
   "cell_type": "code",
   "execution_count": 82,
   "id": "464a322f",
   "metadata": {},
   "outputs": [
    {
     "name": "stdout",
     "output_type": "stream",
     "text": [
      "True\n"
     ]
    }
   ],
   "source": [
    "x = {\"f\", \"e\", \"d\", \"c\", \"b\", \"a\"}\n",
    "y = {\"a\", \"b\", \"c\"}\n",
    "\n",
    "z = x.issuperset(y)\n",
    "\n",
    "print(z)"
   ]
  },
  {
   "cell_type": "markdown",
   "id": "0c515a04",
   "metadata": {},
   "source": [
    "### 5) Strings: collection of characters.\n",
    "\n",
    "##### Operations:\n",
    "- len()\n",
    "- indexing --> eg: str1[5]\n",
    "- Slicing --> eg: str1[start:end:step]\n",
    "- Repeatation --> eg: str1*2\n",
    "- Concatenation --> str1 + str2\n",
    "- in  --> subString in mainString\n",
    "- not in \n",
    "- Removing spaces: lstrip(), rstrip(), strip()    --> lstrip: removes left side spaces of string, rstrip for right and strip for both.  Also it doesn't remove in-between spaces of string.\n",
    "- replace() --> replace one string from another\n",
    "- split()  --> eg: str.split(\"separator\")\n",
    "- join()  --> eg: \"separator\".join(str)\n"
   ]
  },
  {
   "cell_type": "code",
   "execution_count": 25,
   "id": "6aa348da",
   "metadata": {},
   "outputs": [
    {
     "name": "stdout",
     "output_type": "stream",
     "text": [
      "17\n"
     ]
    }
   ],
   "source": [
    "str1 = \"How are you doing\"\n",
    "print(len(str1))"
   ]
  },
  {
   "cell_type": "code",
   "execution_count": 26,
   "id": "ac633c5f",
   "metadata": {},
   "outputs": [
    {
     "name": "stdout",
     "output_type": "stream",
     "text": [
      "a\n"
     ]
    }
   ],
   "source": [
    "print(str1[4])"
   ]
  },
  {
   "cell_type": "code",
   "execution_count": 31,
   "id": "b0d8fe6d",
   "metadata": {},
   "outputs": [
    {
     "name": "stdout",
     "output_type": "stream",
     "text": [
      "How ar\n",
      "Hwaey\n",
      "w ar\n",
      "gniod uoy era woH\n"
     ]
    }
   ],
   "source": [
    "print(str1[:6])\n",
    "print(str1[:10:2])\n",
    "print(str1[2:6])\n",
    "print(str1[-1::-1])"
   ]
  },
  {
   "cell_type": "code",
   "execution_count": 32,
   "id": "082a46d5",
   "metadata": {},
   "outputs": [
    {
     "name": "stdout",
     "output_type": "stream",
     "text": [
      "How are you doingHow are you doing\n"
     ]
    }
   ],
   "source": [
    "print(str1*2)"
   ]
  },
  {
   "cell_type": "code",
   "execution_count": 34,
   "id": "46820ca9",
   "metadata": {},
   "outputs": [
    {
     "name": "stdout",
     "output_type": "stream",
     "text": [
      "How are you doing bob\n"
     ]
    }
   ],
   "source": [
    "print(str1 + \" bob\")"
   ]
  },
  {
   "cell_type": "code",
   "execution_count": 35,
   "id": "237ec780",
   "metadata": {},
   "outputs": [
    {
     "name": "stdout",
     "output_type": "stream",
     "text": [
      "True\n"
     ]
    }
   ],
   "source": [
    "print(\"How\" in str1)"
   ]
  },
  {
   "cell_type": "code",
   "execution_count": 36,
   "id": "479df1b6",
   "metadata": {},
   "outputs": [
    {
     "name": "stdout",
     "output_type": "stream",
     "text": [
      "False\n"
     ]
    }
   ],
   "source": [
    "print(\"How\" not in str1)"
   ]
  },
  {
   "cell_type": "code",
   "execution_count": 37,
   "id": "0c749088",
   "metadata": {},
   "outputs": [
    {
     "name": "stdout",
     "output_type": "stream",
     "text": [
      "23\n"
     ]
    }
   ],
   "source": [
    "## lstrip(), rstrip(), strip()\n",
    "\n",
    "str2 = '     ICT mission 2021  '\n",
    "print(len(str2))\n"
   ]
  },
  {
   "cell_type": "code",
   "execution_count": 39,
   "id": "8f975dcf",
   "metadata": {},
   "outputs": [
    {
     "name": "stdout",
     "output_type": "stream",
     "text": [
      "18\n",
      "21\n",
      "16\n"
     ]
    }
   ],
   "source": [
    "print(len(str2.lstrip()))\n",
    "print(len(str2.rstrip()))\n",
    "print(len(str2.strip()))"
   ]
  },
  {
   "cell_type": "code",
   "execution_count": 40,
   "id": "65dd2856",
   "metadata": {},
   "outputs": [
    {
     "name": "stdout",
     "output_type": "stream",
     "text": [
      "ICT mission 2021  \n",
      "     ICT mission 2021\n",
      "ICT mission 2021\n"
     ]
    }
   ],
   "source": [
    "print(str2.lstrip())\n",
    "print(str2.rstrip())\n",
    "print(str2.strip())"
   ]
  },
  {
   "cell_type": "code",
   "execution_count": 50,
   "id": "97b58064",
   "metadata": {},
   "outputs": [
    {
     "name": "stdout",
     "output_type": "stream",
     "text": [
      "his name was Ankur. Ankur was good in nature\n",
      "his name was {A}. {A} was good in nature\n",
      "his name was Ankur. Ankur was good in nature\n"
     ]
    }
   ],
   "source": [
    "## Replace()\n",
    "\n",
    "str3 = \"his name was {A}. {A} was good in nature\"\n",
    "\n",
    "print(str3.replace(\"{A}\", \"Ankur\")) \n",
    "print(str3)  # it doesn't change origional string\n",
    "str4 = str3.replace(\"{A}\", \"Ankur\")\n",
    "print(str4)"
   ]
  },
  {
   "cell_type": "code",
   "execution_count": 51,
   "id": "d4084d99",
   "metadata": {},
   "outputs": [
    {
     "name": "stdout",
     "output_type": "stream",
     "text": [
      "['Introduction', 'to', 'python']\n"
     ]
    }
   ],
   "source": [
    "## Split()\n",
    "\n",
    "str5 = \"Introduction to python\"\n",
    "\n",
    "res_1 = str5.split(\" \")\n",
    "print(res_1)"
   ]
  },
  {
   "cell_type": "code",
   "execution_count": 52,
   "id": "9b41b89a",
   "metadata": {},
   "outputs": [
    {
     "name": "stdout",
     "output_type": "stream",
     "text": [
      "['Intr', 'ducti', 'n t', ' pyth', 'n']\n"
     ]
    }
   ],
   "source": [
    "res_2 = str5.split(\"o\")\n",
    "print(res_2)"
   ]
  },
  {
   "cell_type": "code",
   "execution_count": 53,
   "id": "24aac5ef",
   "metadata": {},
   "outputs": [
    {
     "name": "stdout",
     "output_type": "stream",
     "text": [
      "Introduction to python\n"
     ]
    }
   ],
   "source": [
    "## Join()\n",
    "\n",
    "res_3 = \" \".join(res_1)\n",
    "print(res_3)\n"
   ]
  },
  {
   "cell_type": "code",
   "execution_count": 54,
   "id": "2c5bc0d8",
   "metadata": {},
   "outputs": [
    {
     "name": "stdout",
     "output_type": "stream",
     "text": [
      "Introduction to python\n"
     ]
    }
   ],
   "source": [
    "res_4 = \"o\".join(res_2)\n",
    "print(res_4)\n"
   ]
  },
  {
   "cell_type": "code",
   "execution_count": 55,
   "id": "fd8c268a",
   "metadata": {},
   "outputs": [
    {
     "name": "stdout",
     "output_type": "stream",
     "text": [
      "['Introduction', 'to', 'python']\n",
      "['Intr', 'ducti', 'n t', ' pyth', 'n']\n",
      "Introduction to python\n",
      "Introduction to python\n"
     ]
    }
   ],
   "source": [
    "print(res_1)\n",
    "print(res_2)\n",
    "print(res_3)\n",
    "print(res_4)"
   ]
  },
  {
   "cell_type": "markdown",
   "id": "2374adb2",
   "metadata": {},
   "source": [
    "##### String formating\n",
    "\n",
    "- We can use \"%\" or \"{}\" menthod to display variables in between string. <br><br>\n",
    "% --> %s, %d, %.1f  for string, int and float respectively <br>\n",
    "{} can also be used as {1},{2} to define sequence."
   ]
  },
  {
   "cell_type": "code",
   "execution_count": 1,
   "id": "db953ce5",
   "metadata": {},
   "outputs": [
    {
     "name": "stdout",
     "output_type": "stream",
     "text": [
      "Pyhton was released in 1991 and 4.000 version is available.\n"
     ]
    }
   ],
   "source": [
    "name = \"Pyhton\"\n",
    "year = 1991\n",
    "version = 4.0\n",
    "\n",
    "print(\"%s was released in %d and %.3f version is available.\"%(name,year,version))"
   ]
  },
  {
   "cell_type": "code",
   "execution_count": 58,
   "id": "cf442531",
   "metadata": {},
   "outputs": [
    {
     "name": "stdout",
     "output_type": "stream",
     "text": [
      "Pyhton was released in 1991 and 4.0 version is available.\n"
     ]
    }
   ],
   "source": [
    "print(\"{} was released in {} and {} version is available.\".format(name,year,version))"
   ]
  },
  {
   "cell_type": "code",
   "execution_count": 59,
   "id": "3c6bae60",
   "metadata": {},
   "outputs": [
    {
     "name": "stdout",
     "output_type": "stream",
     "text": [
      "4.0 was released in Pyhton and 1991 version is available.\n"
     ]
    }
   ],
   "source": [
    "print(\"{2} was released in {0} and {1} version is available.\".format(name,year,version))"
   ]
  },
  {
   "cell_type": "markdown",
   "id": "0d822c1b",
   "metadata": {},
   "source": [
    "### 6) Date and Time\n",
    "A date in Python is not a data type of its own, but we can import a module named datetime to work with dates as date objects.<br> <br>\n",
    "\n",
    "eg: 2022-04-19 20:14:31.720868 <br>\n",
    "The date contains year, month, day, hour, minute, second, and microsecond."
   ]
  },
  {
   "cell_type": "code",
   "execution_count": 94,
   "id": "1d9335c0",
   "metadata": {},
   "outputs": [
    {
     "name": "stdout",
     "output_type": "stream",
     "text": [
      "2022-04-19 20:22:28.575559\n"
     ]
    }
   ],
   "source": [
    "import datetime as dt\n",
    "\n",
    "x = dt.datetime.now()\n",
    "print(x)"
   ]
  },
  {
   "cell_type": "code",
   "execution_count": 95,
   "id": "e5fe6362",
   "metadata": {},
   "outputs": [
    {
     "name": "stdout",
     "output_type": "stream",
     "text": [
      "2022\n",
      "4\n",
      "19\n",
      "20\n",
      "22\n",
      "28\n"
     ]
    }
   ],
   "source": [
    "print(x.year)\n",
    "print(x.month)\n",
    "print(x.day)\n",
    "print(x.hour)\n",
    "print(x.minute)\n",
    "print(x.second)"
   ]
  },
  {
   "cell_type": "code",
   "execution_count": 96,
   "id": "b3c6b192",
   "metadata": {},
   "outputs": [
    {
     "name": "stdout",
     "output_type": "stream",
     "text": [
      "2020-05-17 00:00:00\n"
     ]
    }
   ],
   "source": [
    "y = dt.datetime(2020, 5, 17)\n",
    "\n",
    "print(y)"
   ]
  },
  {
   "cell_type": "code",
   "execution_count": null,
   "id": "819665d8",
   "metadata": {},
   "outputs": [],
   "source": []
  }
 ],
 "metadata": {
  "kernelspec": {
   "display_name": "Python 3 (ipykernel)",
   "language": "python",
   "name": "python3"
  },
  "language_info": {
   "codemirror_mode": {
    "name": "ipython",
    "version": 3
   },
   "file_extension": ".py",
   "mimetype": "text/x-python",
   "name": "python",
   "nbconvert_exporter": "python",
   "pygments_lexer": "ipython3",
   "version": "3.9.7"
  }
 },
 "nbformat": 4,
 "nbformat_minor": 5
}
