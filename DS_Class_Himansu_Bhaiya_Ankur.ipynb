{
 "cells": [
  {
   "cell_type": "markdown",
   "id": "b332a4ff",
   "metadata": {},
   "source": [
    "# Data Structure In Python"
   ]
  },
  {
   "cell_type": "markdown",
   "id": "e13b7de6",
   "metadata": {},
   "source": [
    "## Class Recordings:\n",
    "- Binary Search recording: https://youtu.be/Lrx28r1AFuk\n",
    "- Coding Interview Problems on Arrays: https://youtu.be/JarT-xNLTGQ\n",
    "- Binary search in Rotated sorted array, Bubble Sort & Selection Sort:  https://youtu.be/yLnB5zsN3M0\n",
    "- Quick and Merge Sort Algorithm: https://youtu.be/_OQ34qE9gWs        \n",
    "- Coding problems on Hashing: https://youtu.be/G0PNtxjA6NY\n",
    "- Coding Interview problems on Hashing: https://youtu.be/RWTAQi-Ccbs\n",
    "- Coding Interview problems on Stacks session#2: https://youtu.be/ysVKFwyYF7c\n",
    "- Coding Interview problems on Stacks session#1: https://youtu.be/O52R1od9EsY"
   ]
  },
  {
   "cell_type": "markdown",
   "id": "aa3132aa",
   "metadata": {},
   "source": [
    "## Q1: Program to SUM numbers in a given array"
   ]
  },
  {
   "cell_type": "code",
   "execution_count": 2,
   "id": "23637a0c",
   "metadata": {},
   "outputs": [
    {
     "name": "stdout",
     "output_type": "stream",
     "text": [
      "33\n"
     ]
    }
   ],
   "source": [
    "a = [12,6,9,5,1]\n",
    "sum = 0\n",
    "for i in a:\n",
    "    sum = sum + i    \n",
    "print(sum)\n",
    "    "
   ]
  },
  {
   "cell_type": "markdown",
   "id": "f670b688",
   "metadata": {},
   "source": [
    "## Range function usage"
   ]
  },
  {
   "cell_type": "code",
   "execution_count": 24,
   "id": "7ff61aad",
   "metadata": {},
   "outputs": [
    {
     "name": "stdout",
     "output_type": "stream",
     "text": [
      "1\n",
      "2\n",
      "3\n",
      "4\n",
      "5\n",
      "6\n",
      "7\n",
      "8\n",
      "9\n",
      "10\n"
     ]
    }
   ],
   "source": [
    "for n in range(1,11):\n",
    "  print(n)"
   ]
  },
  {
   "cell_type": "code",
   "execution_count": 33,
   "id": "dc8118ef",
   "metadata": {},
   "outputs": [
    {
     "name": "stdout",
     "output_type": "stream",
     "text": [
      "[0, 2, 4, 6]\n"
     ]
    }
   ],
   "source": [
    "l = []\n",
    "for i in range(0, 8, 2):\n",
    "    l.append(i)\n",
    "  \n",
    "print(l)"
   ]
  },
  {
   "cell_type": "markdown",
   "id": "c1b775ba",
   "metadata": {},
   "source": [
    "## Q2: Find a missing number from given array of N natural number"
   ]
  },
  {
   "cell_type": "code",
   "execution_count": 34,
   "id": "37ddaaa0",
   "metadata": {
    "scrolled": true
   },
   "outputs": [
    {
     "name": "stdout",
     "output_type": "stream",
     "text": [
      "Missing value is:  4\n"
     ]
    }
   ],
   "source": [
    "\n",
    "\n",
    "a = [7,6,9,1,5,2,8,3,10]\n",
    "\n",
    "for i in range(1,11):\n",
    "    found = False\n",
    "    for j in a:\n",
    "        if j == i:\n",
    "            found = True\n",
    "            break\n",
    "    if found == False:\n",
    "        print(\"Missing value is: \", i)\n",
    "        break\n",
    "\n",
    "            "
   ]
  },
  {
   "cell_type": "markdown",
   "id": "1fbba1d0",
   "metadata": {},
   "source": [
    "#### In above approach complexity is O(n^2). So, we can look for the approach with less complexity. "
   ]
  },
  {
   "cell_type": "markdown",
   "id": "f640c0e8",
   "metadata": {},
   "source": [
    "### Solve above problem as sum of first N natural number which is n*(n+1)/2"
   ]
  },
  {
   "cell_type": "code",
   "execution_count": 41,
   "id": "6638aa34",
   "metadata": {},
   "outputs": [
    {
     "name": "stdout",
     "output_type": "stream",
     "text": [
      "Golden_Sum is:  55.0\n",
      "Missing number is:  4.0\n"
     ]
    }
   ],
   "source": [
    "a = [7,6,9,1,5,2,8,3,10]\n",
    "\n",
    "n = len(a) + 1  ## One number is missing from array, So, total number count is \"len(a) +1\"\n",
    "Golden_Sum = (n*(n+1))/2  # Sum of N natural number\n",
    "\n",
    "print(\"Golden_Sum is: \", Golden_Sum)\n",
    "\n",
    "Array_Sum = 0   # Sum of numbers inside Array\n",
    "for i in a:\n",
    "    Array_Sum = Array_Sum + i\n",
    "    \n",
    "    \n",
    "## Misiing Number \n",
    "Missing_Num = Golden_Sum - Array_Sum \n",
    "\n",
    "print(\"Missing number is: \", Missing_Num)\n"
   ]
  },
  {
   "cell_type": "markdown",
   "id": "f2465781",
   "metadata": {},
   "source": [
    "## Q3: Remove duplicate elements from sorted array"
   ]
  },
  {
   "cell_type": "code",
   "execution_count": 57,
   "id": "c47b0506",
   "metadata": {},
   "outputs": [
    {
     "name": "stdout",
     "output_type": "stream",
     "text": [
      "[1, 2, 3, 4]\n"
     ]
    }
   ],
   "source": [
    "a = [1,2,2,3,3,3,4]\n",
    "b = set(a)  ## taking  list in a set as it doesn't accept duplicates\n",
    "b = list(b)\n",
    "print(b)\n"
   ]
  },
  {
   "cell_type": "markdown",
   "id": "c150b2a4",
   "metadata": {},
   "source": [
    "### Second method of remove duplicate"
   ]
  },
  {
   "cell_type": "code",
   "execution_count": 6,
   "id": "1fc7e438",
   "metadata": {},
   "outputs": [
    {
     "name": "stdout",
     "output_type": "stream",
     "text": [
      "[1, 2, 3, 4]\n"
     ]
    }
   ],
   "source": [
    "a = [1,2,2,3,3,3,4]\n",
    "b = []\n",
    "\n",
    "n = len(a) - 1\n",
    "for i in range(n):\n",
    "    if a[i] == a[i+1]:\n",
    "        continue\n",
    "    b.append(a[i])\n",
    "    \n",
    "b.append(a[-1])\n",
    "print(b)"
   ]
  },
  {
   "cell_type": "markdown",
   "id": "27a2cf88",
   "metadata": {},
   "source": [
    "## Q4: Merge sorted array"
   ]
  },
  {
   "cell_type": "code",
   "execution_count": 47,
   "id": "9becd37e",
   "metadata": {},
   "outputs": [
    {
     "name": "stdout",
     "output_type": "stream",
     "text": [
      "[1, 2, 5, 10, 12, 14, 15, 20]\n"
     ]
    }
   ],
   "source": [
    "a = [1,5,10,15,20]\n",
    "b = [2,12,14]\n",
    "\n",
    "c = a+b\n",
    "c.sort()\n",
    "print(c)"
   ]
  },
  {
   "cell_type": "markdown",
   "id": "c8f4d03e",
   "metadata": {},
   "source": [
    "## Q5: Find smallest or largest number in the array"
   ]
  },
  {
   "cell_type": "code",
   "execution_count": 7,
   "id": "6851b6de",
   "metadata": {},
   "outputs": [
    {
     "name": "stdout",
     "output_type": "stream",
     "text": [
      "smallest number is:  -6\n"
     ]
    }
   ],
   "source": [
    "a = [5,3,9,-6,8]\n",
    "\n",
    "n = len(a) \n",
    "small_num = a[0]\n",
    "\n",
    "for i in range(n):\n",
    "    if small_num > a[i]:\n",
    "        small_num = a[i]\n",
    "\n",
    "print(\"smallest number is: \", small_num)\n",
    "    "
   ]
  },
  {
   "cell_type": "code",
   "execution_count": 8,
   "id": "46df0475",
   "metadata": {},
   "outputs": [
    {
     "name": "stdout",
     "output_type": "stream",
     "text": [
      "largest number is:  9\n"
     ]
    }
   ],
   "source": [
    "a = [5,3,9,-6,8]\n",
    "\n",
    "n = len(a) \n",
    "large_num = a[0]\n",
    "\n",
    "for i in range(n):\n",
    "    if large_num < a[i]:\n",
    "        large_num = a[i]\n",
    "\n",
    "print(\"largest number is: \", large_num)"
   ]
  },
  {
   "cell_type": "markdown",
   "id": "eba041e3",
   "metadata": {},
   "source": [
    "## Q6: Find leaders in a given array\n",
    "A number is an leader if all the numbers of it's right side are smaller than it.<br>\n",
    "eg: a = [12,3,9,6,4,5,2]<br>\n",
    "Expected output: 12, 9, 6, 5, 2"
   ]
  },
  {
   "cell_type": "code",
   "execution_count": 89,
   "id": "3767d438",
   "metadata": {},
   "outputs": [
    {
     "name": "stdout",
     "output_type": "stream",
     "text": [
      "12\n",
      "9\n",
      "2\n"
     ]
    }
   ],
   "source": [
    "## With nested loop\n",
    "#a = [12,3,9,6,4,5,2]\n",
    "a = [12,3,6,5,4,9,2]\n",
    "\n",
    "n = len(a)\n",
    "\n",
    "\n",
    "for i in range(n):\n",
    "    leader_num = True\n",
    "    for j in range(i+1,n):\n",
    "        if a[i] < a[j]:\n",
    "            leader_num = False\n",
    "            break\n",
    "    if leader_num == True:\n",
    "        print(a[i])\n",
    "            "
   ]
  },
  {
   "cell_type": "markdown",
   "id": "dbd7446f",
   "metadata": {},
   "source": [
    "#### In above code complexity order is: O(n^2) \n",
    "\n",
    "### If order of print output doesn't matter than better approach with less complexity order\n"
   ]
  },
  {
   "cell_type": "code",
   "execution_count": 4,
   "id": "8ec94a40",
   "metadata": {},
   "outputs": [
    {
     "name": "stdout",
     "output_type": "stream",
     "text": [
      "2\n",
      "9\n",
      "15\n"
     ]
    }
   ],
   "source": [
    "## Start to compare from last element of the array\n",
    "#a = [12,3,9,6,4,5,2]\n",
    "a = [12,3,6,5,4,9,2]\n",
    "\n",
    "\n",
    "n = len(a)\n",
    "print(a[n-1])\n",
    "\n",
    "max=a[n-1]\n",
    "for i in range(n-1)[::-1]:\n",
    "    if a[i] > max:\n",
    "        print(a[i])    \n",
    "        max=a[i]"
   ]
  },
  {
   "cell_type": "code",
   "execution_count": 2,
   "id": "1c93b7dd",
   "metadata": {},
   "outputs": [
    {
     "name": "stdout",
     "output_type": "stream",
     "text": [
      "4\n",
      "3\n",
      "2\n",
      "1\n",
      "0\n"
     ]
    }
   ],
   "source": [
    "## Reverse prining from range function\n",
    "for i in range(5)[::-1]:\n",
    "    print(i)    "
   ]
  },
  {
   "cell_type": "markdown",
   "id": "11c3a4a1",
   "metadata": {},
   "source": [
    "# Searching Algorithams\n",
    "## Linear search and binary search\n",
    "\n"
   ]
  },
  {
   "cell_type": "code",
   "execution_count": 19,
   "id": "0e342c45",
   "metadata": {},
   "outputs": [
    {
     "name": "stdout",
     "output_type": "stream",
     "text": [
      "Eneter the number you want to search: 3\n",
      "number found at at index:  4\n"
     ]
    }
   ],
   "source": [
    "### Linear search\n",
    "a = [8,5,6,2,3,1]\n",
    "\n",
    "k = int(input(\"Eneter the number you want to search: \"))\n",
    "found = False\n",
    "\n",
    "for i in range(len(a)):\n",
    "    if a[i] == k:\n",
    "        print(\"number found at at index: \", i )\n",
    "        found = True\n",
    "        break\n",
    "\n",
    "if found == False:\n",
    "    print(\"number is not part of the array\")\n",
    "        "
   ]
  },
  {
   "cell_type": "code",
   "execution_count": 22,
   "id": "6382a2a3",
   "metadata": {},
   "outputs": [
    {
     "name": "stdout",
     "output_type": "stream",
     "text": [
      "Requirement already satisfied: ipykernel in c:\\users\\gupankur\\anaconda3\\lib\\site-packages (6.9.2)\n",
      "Requirement already satisfied: tornado<7.0,>=4.2 in c:\\users\\gupankur\\anaconda3\\lib\\site-packages (from ipykernel) (6.1)\n",
      "Requirement already satisfied: debugpy<2.0,>=1.0.0 in c:\\users\\gupankur\\anaconda3\\lib\\site-packages (from ipykernel) (1.4.1)\n",
      "Requirement already satisfied: psutil in c:\\users\\gupankur\\anaconda3\\lib\\site-packages (from ipykernel) (5.8.0)\n",
      "Requirement already satisfied: nest-asyncio in c:\\users\\gupankur\\anaconda3\\lib\\site-packages (from ipykernel) (1.5.1)\n",
      "Requirement already satisfied: ipython>=7.23.1 in c:\\users\\gupankur\\anaconda3\\lib\\site-packages (from ipykernel) (7.29.0)\n",
      "Requirement already satisfied: matplotlib-inline<0.2.0,>=0.1.0 in c:\\users\\gupankur\\anaconda3\\lib\\site-packages (from ipykernel) (0.1.2)\n",
      "Requirement already satisfied: jupyter-client<8.0 in c:\\users\\gupankur\\anaconda3\\lib\\site-packages (from ipykernel) (6.1.12)\n",
      "Requirement already satisfied: traitlets<6.0,>=5.1.0 in c:\\users\\gupankur\\anaconda3\\lib\\site-packages (from ipykernel) (5.1.0)\n",
      "Requirement already satisfied: decorator in c:\\users\\gupankur\\anaconda3\\lib\\site-packages (from ipython>=7.23.1->ipykernel) (5.1.0)\n",
      "Requirement already satisfied: jedi>=0.16 in c:\\users\\gupankur\\anaconda3\\lib\\site-packages (from ipython>=7.23.1->ipykernel) (0.18.0)\n",
      "Requirement already satisfied: colorama in c:\\users\\gupankur\\anaconda3\\lib\\site-packages (from ipython>=7.23.1->ipykernel) (0.4.4)\n",
      "Requirement already satisfied: pickleshare in c:\\users\\gupankur\\anaconda3\\lib\\site-packages (from ipython>=7.23.1->ipykernel) (0.7.5)\n",
      "Requirement already satisfied: setuptools>=18.5 in c:\\users\\gupankur\\anaconda3\\lib\\site-packages (from ipython>=7.23.1->ipykernel) (58.0.4)\n",
      "Requirement already satisfied: backcall in c:\\users\\gupankur\\anaconda3\\lib\\site-packages (from ipython>=7.23.1->ipykernel) (0.2.0)\n",
      "Requirement already satisfied: pygments in c:\\users\\gupankur\\anaconda3\\lib\\site-packages (from ipython>=7.23.1->ipykernel) (2.10.0)\n",
      "Requirement already satisfied: prompt-toolkit!=3.0.0,!=3.0.1,<3.1.0,>=2.0.0 in c:\\users\\gupankur\\anaconda3\\lib\\site-packages (from ipython>=7.23.1->ipykernel) (3.0.20)\n",
      "Requirement already satisfied: parso<0.9.0,>=0.8.0 in c:\\users\\gupankur\\anaconda3\\lib\\site-packages (from jedi>=0.16->ipython>=7.23.1->ipykernel) (0.8.2)\n",
      "Requirement already satisfied: pyzmq>=13 in c:\\users\\gupankur\\anaconda3\\lib\\site-packages (from jupyter-client<8.0->ipykernel) (22.2.1)\n",
      "Requirement already satisfied: jupyter-core>=4.6.0 in c:\\users\\gupankur\\anaconda3\\lib\\site-packages (from jupyter-client<8.0->ipykernel) (4.8.1)\n",
      "Requirement already satisfied: python-dateutil>=2.1 in c:\\users\\gupankur\\anaconda3\\lib\\site-packages (from jupyter-client<8.0->ipykernel) (2.8.2)\n",
      "Requirement already satisfied: pywin32>=1.0 in c:\\users\\gupankur\\anaconda3\\lib\\site-packages (from jupyter-core>=4.6.0->jupyter-client<8.0->ipykernel) (228)\n",
      "Requirement already satisfied: wcwidth in c:\\users\\gupankur\\anaconda3\\lib\\site-packages (from prompt-toolkit!=3.0.0,!=3.0.1,<3.1.0,>=2.0.0->ipython>=7.23.1->ipykernel) (0.2.5)\n",
      "Requirement already satisfied: six>=1.5 in c:\\users\\gupankur\\anaconda3\\lib\\site-packages (from python-dateutil>=2.1->jupyter-client<8.0->ipykernel) (1.16.0)\n",
      "Note: you may need to restart the kernel to use updated packages.\n"
     ]
    }
   ],
   "source": [
    "pip install --upgrade ipykernel"
   ]
  },
  {
   "cell_type": "markdown",
   "id": "377f4d6d",
   "metadata": {},
   "source": [
    "##### Note: input bydefault takes input in string form. So, we need to convert it in specific datatype."
   ]
  },
  {
   "cell_type": "markdown",
   "id": "de0579c9",
   "metadata": {},
   "source": [
    "## Binary search while array in assending and decending order\n",
    "#### Binary search is preferred if array is sorted either assending or decending"
   ]
  },
  {
   "cell_type": "code",
   "execution_count": 50,
   "id": "96f89790",
   "metadata": {},
   "outputs": [
    {
     "name": "stdout",
     "output_type": "stream",
     "text": [
      "Input number that you want to search: 1\n",
      "mid value is: 4\n",
      "mid value is: 6\n",
      "mid value is: 7\n",
      "number is not present in given array\n"
     ]
    }
   ],
   "source": [
    "a= [23,19,17,14,11,7,5,3,2]\n",
    "\n",
    "k = int(input(\"Input number that you want to search: \"))\n",
    "found = False\n",
    "start = 0\n",
    "end = len(a) - 1\n",
    "mid = (end + start)//2\n",
    "\n",
    "while(start < end): \n",
    "    print(\"mid value is:\", mid)\n",
    "    if a[mid] > k:\n",
    "        start = mid + 1\n",
    "    elif a[mid] < k:\n",
    "        end = mid - 1 \n",
    "    else:\n",
    "        found = True\n",
    "        print(\"number found at index: \", mid)\n",
    "        break\n",
    "    mid = (end + start)//2\n",
    "        \n",
    "if found == False:\n",
    "    print(\"number is not present in given array\")"
   ]
  },
  {
   "cell_type": "markdown",
   "id": "e9521487",
   "metadata": {},
   "source": [
    "## Cyclometric complexity increases with if/else. So, we should avoid using multiple/nested if/else. "
   ]
  },
  {
   "cell_type": "code",
   "execution_count": null,
   "id": "23f7e613",
   "metadata": {},
   "outputs": [],
   "source": []
  },
  {
   "cell_type": "markdown",
   "id": "5aa7f7f0",
   "metadata": {},
   "source": [
    "# Reverse the array\n",
    "#### 2 array approach\n",
    "####  inside for loop \"b.append(len(a) -1 -i)\""
   ]
  },
  {
   "cell_type": "code",
   "execution_count": 13,
   "id": "52c1c6c4",
   "metadata": {},
   "outputs": [
    {
     "name": "stdout",
     "output_type": "stream",
     "text": [
      "[2, 8, 3, 5, 12, 9]\n"
     ]
    }
   ],
   "source": [
    "a = [9,12,5,3,8,2]\n",
    "b = []\n",
    "\n",
    "n = len(a) \n",
    "\n",
    "for i in range(n):\n",
    "    b.append(a[n-1-i])\n",
    "    \n",
    "a = b\n",
    "print(a)"
   ]
  },
  {
   "cell_type": "markdown",
   "id": "0147d40e",
   "metadata": {},
   "source": [
    "## Single array approach using swapping."
   ]
  },
  {
   "cell_type": "code",
   "execution_count": 14,
   "id": "26fbb88c",
   "metadata": {},
   "outputs": [
    {
     "name": "stdout",
     "output_type": "stream",
     "text": [
      "[5, 3, 2, 8, 3, 5, 12, 9]\n"
     ]
    }
   ],
   "source": [
    "a = [9,12,5,3,8,2,3,5]\n",
    "\n",
    "def swap(a ,b):\n",
    "    temp = a\n",
    "    a = b\n",
    "    b = temp\n",
    "    return a,b\n",
    "        \n",
    "n = len(a) \n",
    "\n",
    "for i in range(n//2):\n",
    "     a[i], a[n-1-i] = swap(a[i], a[n-1-i])\n",
    "    \n",
    "\n",
    "print(a)    "
   ]
  },
  {
   "cell_type": "code",
   "execution_count": 15,
   "id": "e47292c7",
   "metadata": {},
   "outputs": [
    {
     "name": "stdout",
     "output_type": "stream",
     "text": [
      "[5, 3, 2, 8, 3, 5, 12, 9]\n"
     ]
    }
   ],
   "source": [
    "a = [9,12,5,3,8,2,3,5]\n",
    "n = len(a) \n",
    "\n",
    "for i in range(n//2):\n",
    "    temp = a[i]\n",
    "    a[i] = a[n -1 -i]\n",
    "    a[n -1 -i] = temp\n",
    "\n",
    "print(a) "
   ]
  },
  {
   "cell_type": "markdown",
   "id": "65695190",
   "metadata": {},
   "source": [
    "# Rotation of array\n",
    "## E.g.: like 1 rotation, 2 rotation\n",
    "#### E.g: a = [9,10,15,8,12,6,3,5]\n",
    "#### Output after 3 rotation: [6,3,5,9,10,15,8,12]\n"
   ]
  },
  {
   "cell_type": "code",
   "execution_count": 106,
   "id": "f0fa2ab8",
   "metadata": {},
   "outputs": [
    {
     "name": "stdout",
     "output_type": "stream",
     "text": [
      "number of times array to be rotated: 0\n",
      "[9, 10, 15, 8, 12, 6, 3, 5]\n"
     ]
    }
   ],
   "source": [
    "# Using 2 array\n",
    "\n",
    "a = [9,10,15,8,12,6,3,5]\n",
    "k = int(input(\"number of times array to be rotated: \"))\n",
    "n = len(a) \n",
    "b = []\n",
    "\n",
    "for i in range(k):\n",
    "    b.append(a[n-k+i])\n",
    "    \n",
    "for i in range(n-k):\n",
    "    b.append(a[i])\n",
    "\n",
    "    \n",
    "a = b\n",
    "print(a)\n",
    "\n"
   ]
  },
  {
   "cell_type": "markdown",
   "id": "eae1b744",
   "metadata": {},
   "source": [
    "# Note correct below program "
   ]
  },
  {
   "cell_type": "code",
   "execution_count": 114,
   "id": "f4782ca1",
   "metadata": {},
   "outputs": [
    {
     "name": "stdout",
     "output_type": "stream",
     "text": [
      "number of times array to be rotated: 3\n",
      "test1:  [5, 3, 6, 8, 12, 15, 10, 9]\n",
      "test2:  [5, 3, 6, 8, 12, 15, 10, 9]\n",
      "[5, 10, 15, 8, 12, 6, 3, 9]\n"
     ]
    }
   ],
   "source": [
    "# Using single array (using swapping) to avoid extra memory allocation\n",
    "\n",
    "\n",
    "\n",
    "a = [9,10,15,8,12,6,3,5]\n",
    ">>>>\n",
    "a1= [12,8,15,10,9,6,3,5]\n",
    "a2= [12,8,15,10,9,5,3,6]\n",
    "a3=[6,3,5,9,10,15,8,12]\n",
    ">>>>\n",
    "k = int(input(\"number of times array to be rotated: \"))\n",
    "n = len(a) \n",
    "\n",
    "\n",
    "for i in range(k):\n",
    "    temp = a[i]\n",
    "    a[i] = a[n-1-i]\n",
    "    a[n-1-i] = temp\n",
    "\n",
    "print(\"test1: \", a)\n",
    "    \n",
    "    \n",
    "for i in range(k):\n",
    "    temp = a[i]\n",
    "    a[i] = a[k-1-i]\n",
    "    a[k-1-i] = temp\n",
    "\n",
    "print(\"test2: \",a)   \n",
    "    \n",
    "for i in range(k,n-1):\n",
    "    temp = a[i]\n",
    "    a[i] = a[n-1-i]\n",
    "    a[n-1-i] = temp\n",
    "\n",
    "    \n",
    "print(a)\n"
   ]
  },
  {
   "cell_type": "markdown",
   "id": "3c5a8ab2",
   "metadata": {},
   "source": [
    "# Rotated sorted array "
   ]
  },
  {
   "cell_type": "code",
   "execution_count": 42,
   "id": "af96a479",
   "metadata": {},
   "outputs": [],
   "source": [
    "a = [13,17,19,2,3,5,7,11]"
   ]
  },
  {
   "cell_type": "markdown",
   "id": "becf89e1",
   "metadata": {},
   "source": [
    "# Question:\n",
    "\n",
    "### Write code to verify SUM of digits of given number is odd or even "
   ]
  },
  {
   "cell_type": "code",
   "execution_count": 63,
   "id": "d0d00c22",
   "metadata": {},
   "outputs": [
    {
     "name": "stdout",
     "output_type": "stream",
     "text": [
      "Sum of digits are:  20\n",
      "even\n"
     ]
    }
   ],
   "source": [
    "n = 123455\n",
    "sum = 0\n",
    "while(n > 0):\n",
    "    d = n % 10          ## Modulus operator: It returns the remainder of dividing\n",
    "    sum += d\n",
    "    n //= 10         ## Floor division: divide and rounds the result down to the nearest whole number\n",
    "\n",
    "\n",
    "    \n",
    "print(\"Sum of digits are: \", sum)    \n",
    "\n",
    "if sum % 2 == 0:\n",
    "    print(\"even\")\n",
    "else:\n",
    "    print(\"odd\")\n",
    "\n",
    "    "
   ]
  },
  {
   "cell_type": "markdown",
   "id": "f89cf6c3",
   "metadata": {},
   "source": [
    "#### Second approach"
   ]
  },
  {
   "cell_type": "code",
   "execution_count": null,
   "id": "552f5992",
   "metadata": {},
   "outputs": [],
   "source": [
    "n=12345\n",
    "print(map(int, str(n)))\n",
    "if sum(map(int, str(n))) % 2:\n",
    "    print(\"odd\")\n",
    "else:\n",
    "    print(\"even\")"
   ]
  },
  {
   "cell_type": "markdown",
   "id": "f1fc9109",
   "metadata": {},
   "source": [
    "# Question 3\n",
    "\n",
    "Vote for Food\n",
    "Your team is going for camping and you are taking a vote to decide what food to pack for dinner.\n",
    "Everyone gets a vote and the food item that gets at least one more than half of the votes wins. None of the items wins if nothing gets at least one more than half votes. Assume that every person gets only one vote.\n",
    "The input will contain a list of food items where each occurrence of an item represents one vote. You should print the winning food item as output. If there is no clear winner, print \"NOTA\". \n",
    "\n",
    "Sample Input:\n",
    "[\"pasta\",\"pasta\",\"pasta\",\"pasta\",\"pasta\",\"paratha\",\"paratha\",\"paratha\"]\n",
    "Sample Output:\n",
    "pasta\n",
    "\n",
    "This question was asked in a Data Analyst interview."
   ]
  },
  {
   "cell_type": "markdown",
   "id": "602ad2bd",
   "metadata": {},
   "source": [
    "#### Solution using dictionary - not the expected one"
   ]
  },
  {
   "cell_type": "code",
   "execution_count": 134,
   "id": "f8fdcf4b",
   "metadata": {},
   "outputs": [
    {
     "name": "stdout",
     "output_type": "stream",
     "text": [
      "NOTA\n"
     ]
    }
   ],
   "source": [
    "import ast,sys\n",
    "\n",
    "votes = [\"pasta\", \"pasta\", \"pasta\",\"paratha\",\"paratha\",\"paratha\"]\n",
    "\n",
    "ls = sorted(votes)\n",
    "n = len(ls) - 1\n",
    "count = 1\n",
    "food_vote = {}\n",
    "\n",
    "for i in range(n):\n",
    "    if i == n-1 and ls[i] == ls[i+1]:\n",
    "            count = count + 1 \n",
    "            food_vote[ls[i]] = count\n",
    "    else:\n",
    "        food_vote[ls[i]] = count\n",
    "    if ls[i] == ls[i+1]:\n",
    "        count+=1\n",
    "        continue\n",
    "    food_vote[ls[i]] = count\n",
    "    count =1\n",
    "\n",
    "\n",
    "key = []\n",
    "values = []\n",
    "\n",
    "for i,j in food_vote.items():\n",
    "    key.append(i)\n",
    "    values.append(j)\n",
    "    \n",
    "\n",
    "max_val = values[0]\n",
    "max_val_index = 0\n",
    "for i in range(1, len(values)):\n",
    "    if max_val < values[i]:\n",
    "        max_val = values[i]\n",
    "        max_val_index = i\n",
    "    \n",
    "         \n",
    "if max_val > (len(ls)//2 ):\n",
    "    print(key[max_val_index])\n",
    "else:\n",
    "    print(\"NOTA\")"
   ]
  },
  {
   "cell_type": "markdown",
   "id": "ab6e75ec",
   "metadata": {},
   "source": [
    "#### Expected solution: using sets"
   ]
  },
  {
   "cell_type": "code",
   "execution_count": 141,
   "id": "68f15ce1",
   "metadata": {},
   "outputs": [
    {
     "name": "stdout",
     "output_type": "stream",
     "text": [
      "pasta\n"
     ]
    }
   ],
   "source": [
    "votes = [\"pasta\", \"pasta\", \"pasta\",\"pasta\",\"pasta\",\"paratha\",\"paratha\",\"paratha\"]\n",
    "\n",
    "def dinner(votes):\n",
    "    for i in set(votes):\n",
    "        if votes.count(i)>len(votes)//2:\n",
    "          return i\n",
    "    return \"NOTA\"\n",
    "print(dinner(votes))"
   ]
  },
  {
   "cell_type": "markdown",
   "id": "204c1d12",
   "metadata": {},
   "source": [
    "# Find the smallest element on the rotated sorted array\n",
    "# Not correct"
   ]
  },
  {
   "cell_type": "code",
   "execution_count": 99,
   "id": "7e43c855",
   "metadata": {},
   "outputs": [
    {
     "name": "stdout",
     "output_type": "stream",
     "text": [
      "mid is at index:  5 and value of mid is:  0\n",
      "mid is at index:  2 and value of mid is:  44\n",
      "mid is at index:  1 and value of mid is:  34\n",
      "mid is at index:  0 and value of mid is:  22\n",
      "small number is:  34\n"
     ]
    }
   ],
   "source": [
    "#a = [5,8,19,22,34,-8,-4,0,4]\n",
    "a = [22,34,44,45,-4,0,4,5,8,19]\n",
    "\n",
    "n = len(a)\n",
    "start = 0\n",
    "end = n-1\n",
    "\n",
    "while(start <= end):   \n",
    "    mid = int((start + end + 1)/2)\n",
    "    small_num = a[mid+1]\n",
    "    print(\"mid is at index: \", mid, \"and value of mid is: \", a[mid])\n",
    "    if a[mid] > a[mid+1]:\n",
    "        small_num = a[mid+1]\n",
    "        break\n",
    "    elif a[mid] < a[mid+1] and a[mid] < a[mid-1]:\n",
    "        small_num = a[mid]\n",
    "    elif a[start] <= a[mid] or a[end] >= a[mid]:\n",
    "        end = mid - 1\n",
    "    \n",
    "    \n",
    "\n",
    "                    \n",
    "print(\"small number is: \", small_num)       \n",
    "    "
   ]
  },
  {
   "cell_type": "code",
   "execution_count": null,
   "id": "2fcc0a41",
   "metadata": {},
   "outputs": [],
   "source": []
  },
  {
   "cell_type": "markdown",
   "id": "cb40c898",
   "metadata": {},
   "source": [
    "# Selection Sort\n",
    "#### Find Smallest number and arrange/swap them with position 1st to end sequencially\n",
    "\n",
    "O(n) = n^2"
   ]
  },
  {
   "cell_type": "code",
   "execution_count": null,
   "id": "0334a155",
   "metadata": {},
   "outputs": [],
   "source": []
  },
  {
   "cell_type": "markdown",
   "id": "9fe49e17",
   "metadata": {},
   "source": [
    "# Bubble sort\n",
    "\n",
    "#### Compare each element with its next element and swap them if first one is greater than next. iterate the process. \n",
    "\n",
    "O(n) = n^2"
   ]
  },
  {
   "cell_type": "code",
   "execution_count": 10,
   "id": "c73cd76b",
   "metadata": {},
   "outputs": [
    {
     "name": "stdout",
     "output_type": "stream",
     "text": [
      "[5, 7, 9, 10, 12, 25, 27, 41]\n"
     ]
    }
   ],
   "source": [
    "a = [10,25,9,7,27,41,12,5]\n",
    "n = len(a)\n",
    "\n",
    "def swap(p,q):\n",
    "    temp = p\n",
    "    p = q\n",
    "    q = temp\n",
    "    return p,q\n",
    "\n",
    "for i in range(n):\n",
    "    for j in range(i+1,n):\n",
    "        if a[i] > a[j]:\n",
    "            a[i],a[j] = swap(a[i],a[j]) \n",
    "\n",
    "print(a)"
   ]
  },
  {
   "cell_type": "markdown",
   "id": "97ea189c",
   "metadata": {},
   "source": [
    "# Insertion sort\n",
    "\n",
    "#### compare each element from all elements in it's left\n",
    "logic:\n",
    "for(int i=0;i<len(a)-1,i++)\n",
    "   temp = a[i]\n",
    "   j=i-1\n",
    "    while(j>=0 && temp < a[j])\n",
    "       a[j+1] = a[j]\n",
    "       j = j-1\n",
    "       a[j+1] = temp\n",
    "    \n",
    "    \n",
    "O(n) = n^2"
   ]
  },
  {
   "cell_type": "code",
   "execution_count": null,
   "id": "03a04dee",
   "metadata": {},
   "outputs": [],
   "source": []
  },
  {
   "cell_type": "markdown",
   "id": "47b54b47",
   "metadata": {},
   "source": [
    "# Quick sort  [Complexity O(n) = nlog(n)]\n",
    "#### Works on partition algoritham\n",
    "\n",
    "Pick Pivote element and after loop all element to the left will be smaller than pivote and all element in right will be greater than pivot if right most element picked as pivot.\n",
    "Divde and concour method"
   ]
  },
  {
   "cell_type": "code",
   "execution_count": 6,
   "id": "6d5eaa44",
   "metadata": {},
   "outputs": [
    {
     "name": "stdout",
     "output_type": "stream",
     "text": [
      "[5, 7, 9, 10, 12, 25, 27, 41]\n"
     ]
    }
   ],
   "source": [
    "ls = [10,25,9,7,27,41,12,5]\n",
    "#ls = [9,6,5,0,8,2,4]\n",
    "\n",
    "def swap(p,q):\n",
    "    temp = p\n",
    "    p = q\n",
    "    q = temp\n",
    "    return p,q\n",
    "    \n",
    "\n",
    "def partition(a,p,r):\n",
    "    pivot = a[r]\n",
    "    i = p-1\n",
    "    for j in range(p,r):\n",
    "        if a[j] < pivot:\n",
    "            i +=1\n",
    "            a[i],a[j] = swap(a[i],a[j])\n",
    "        \n",
    "    a[i+1],a[r] = swap(a[i+1],a[r])\n",
    "    return i+1\n",
    "\n",
    "\n",
    "def quicksort(a,p,r):\n",
    "    if p < r:\n",
    "        q = partition(a,p,r)\n",
    "        quicksort(a,p,q-1)\n",
    "        quicksort(a,q+1,r)\n",
    "    \n",
    "n = len(ls) -1\n",
    "quicksort(ls,0,n)    \n",
    "print(ls)\n",
    "        \n",
    "            \n",
    "            "
   ]
  },
  {
   "cell_type": "markdown",
   "id": "d60fd354",
   "metadata": {},
   "source": [
    "# Exchange Sort [O(n^2)]\n",
    "\n",
    "for(i =0, i<len(a) -1, i++):\n",
    "  for(i=i+1, j< len(a),j++):\n",
    "    a[i] > a[j]:\n",
    "      swap a[i], a[j]\n",
    "    "
   ]
  },
  {
   "cell_type": "code",
   "execution_count": 12,
   "id": "79a87dcc",
   "metadata": {},
   "outputs": [
    {
     "name": "stdout",
     "output_type": "stream",
     "text": [
      "[5, 7, 9, 10, 12, 25, 27, 41]\n"
     ]
    }
   ],
   "source": [
    "a = [10,25,9,7,27,41,12,5]\n",
    "n = len(a)\n",
    "\n",
    "def swap(p,q):\n",
    "    temp = p\n",
    "    p = q\n",
    "    q = temp\n",
    "    return p,q\n",
    "\n",
    "for i in range(n-1):\n",
    "    for j in range(i+1,n):\n",
    "        if a[i] > a[j]:\n",
    "            a[i],a[j] = swap(a[i],a[j]) \n",
    "\n",
    "print(a)"
   ]
  },
  {
   "cell_type": "markdown",
   "id": "6b69b61e",
   "metadata": {},
   "source": [
    "## Model selection coding excercise"
   ]
  },
  {
   "cell_type": "markdown",
   "id": "cb938c09",
   "metadata": {},
   "source": [
    "## Model selection coding excercise\n",
    "\n",
    "\n",
    "#####Question#1\n",
    "\n",
    "Break the list\n",
    "Write a Python program to divide a given list into chunks of size k.\n",
    "\n",
    "The number of elements in the list need not to be divisible by k.\n",
    "For example, if you want to divide the list [1,2,3,4,5,6,7] into chunk size k=4, then the first chunk will be [1,2,3,4] and the second one will have [5,6,7]. i.e. the last chunk need not have k elements.\n",
    "The input will have two lines, the first line would have the list and the second line would have the value of k.(the code for taking input has already been written, you should not change that)\n",
    "The final output should have the list chunks in different lines.\n",
    "\n",
    "Sample Input:\n",
    "[1,2,3,4,5,6,7,8,9]\n",
    "3\n",
    "Sample Output:\n",
    "\n",
    "[1, 2, 3]\n",
    "[4, 5, 6]\n",
    "[7, 8, 9]\n",
    "\n",
    "A similar question was asked in a Data Analyst test.\n",
    "\n",
    "\n"
   ]
  },
  {
   "cell_type": "code",
   "execution_count": 1,
   "id": "b56176d4",
   "metadata": {},
   "outputs": [
    {
     "name": "stdout",
     "output_type": "stream",
     "text": [
      "[1, 2, 3]\n",
      "[4, 5, 6]\n",
      "[7, 8, 9]\n"
     ]
    }
   ],
   "source": [
    "a = [1,2,3,4,5,6,7,8,9] \n",
    "k =3\n",
    "\n",
    "\n",
    "for i in range(0,len(a),k):\n",
    "    print(a[i:i+k])"
   ]
  },
  {
   "cell_type": "markdown",
   "id": "efb53556",
   "metadata": {},
   "source": [
    "##### Question#2 \n",
    "\n",
    "Scrabble:   \n",
    "Assume that you are trying to complete a crossword puzzle. In a crossword puzzle, some letters are given and you have to figure out which complete word can you make out of it.\n",
    "For example, given letters \"cwd\"in the same order, you can make the word  \"crossword\" or \"crowd\" with it. But if \"dw\" is given in that order, you cannot make \"crossword\" out of it because d and w are in the opposite order here.\n",
    "\n",
    "You want to find an efficient method and write a code for this process. \n",
    "The code will take two strings as input in two lines. The first string will contain letters on the crossword(\"cwd\"), and the second string will contain a word that you want to check.(i.e. you want to check whether the word can be made out of given letters in the same order).\n",
    "The output should say \"yes\" if the word can be formed, else it should say \"no\"\n",
    "Sample Input 1:\n",
    "ccwd\n",
    "crossword\n",
    "Sample Output1:\n",
    "no\n",
    "\n",
    "Sample Input 2:\n",
    "cwd\n",
    "crossword\n",
    "Sample Output 2:\n",
    "yes\n"
   ]
  },
  {
   "cell_type": "code",
   "execution_count": 3,
   "id": "bdceb965",
   "metadata": {},
   "outputs": [
    {
     "name": "stdout",
     "output_type": "stream",
     "text": [
      "yes\n"
     ]
    }
   ],
   "source": [
    "letters = \"cwd\"\n",
    "guess = \"crossword\"\n",
    "\n",
    "i=0\n",
    "\n",
    "for w in guess:\n",
    "    if w == letters[i]:\n",
    "        i +=1\n",
    "        if i >= len(letters): \n",
    "            break\n",
    "\n",
    "            \n",
    "if i == len(letters):\n",
    "    print(\"yes\")\n",
    "else:\n",
    "    print(\"no\")\n",
    "    "
   ]
  },
  {
   "cell_type": "markdown",
   "id": "70189595",
   "metadata": {},
   "source": [
    "##### Question#3\n",
    "\n",
    "Paying the rent\n",
    "You are moving to a new city for an internship for a few months and have to rent a house for that purpose.\n",
    "You have to pay the full month's house rent even if you have lived for a few days for that month. i.e. if you start on 15th Jan and leave by 15th May, you still have to pay full rent for months of Jan and May too.\n",
    "\n",
    "Your task is to find the months that you have to pay rent for so that you can write post-dated cheques to your landlord.\n",
    "\n",
    "You will be given two dates as input and your task is to print all months between the dates including the months the dates are from.\n",
    "The input will contain the two dates in a list as follows:\n",
    "[2017,1,1,2017,3,4] which corresponds to 1st Jan, 2017 and 4th March, 2017. This date is in the format(yyyy,mm,dd)\n",
    "(the code for taking input has already been written for you, please don't modify that)\n",
    "The output should contain a list with names of months you have to pay the rent for(the list should be sorted chronologically  based on months, i.e May should come before August). You can assume that there won't be more than 12 months between two dates.\n",
    "You'll need to use the datetime module for this problem which can be referred to here. You can choose to use any other method too.\n",
    "\n",
    "Sample Input:\n",
    "[2017,1,1,2017,1,1]\n",
    "Sample Output:\n",
    "['January']\n",
    "\n",
    "This question was asked in a Data Analyst coding test."
   ]
  },
  {
   "cell_type": "code",
   "execution_count": 5,
   "id": "73913575",
   "metadata": {},
   "outputs": [
    {
     "name": "stdout",
     "output_type": "stream",
     "text": [
      "2017-01-01\n",
      "2017-05-10\n",
      "['January', 'February', 'March', 'April', 'May']\n"
     ]
    }
   ],
   "source": [
    "import datetime\n",
    "input_list = [2017,1,1,2017,5,10]\n",
    "\n",
    "dateStart=datetime.date(input_list[0],input_list[1],input_list[2])\n",
    "dateEnd=datetime.date(input_list[3],input_list[4],input_list[5])\n",
    "\n",
    "print(dateStart)\n",
    "print(dateEnd)\n",
    "\n",
    "months = ['January', 'February', 'March', 'April', 'May', 'June', 'July', 'August', 'September', 'October', 'November', 'December']\n",
    "ans = set()\n",
    "while dateStart <= dateEnd:\n",
    "    ans.add(dateStart.month)\n",
    "    dateStart += datetime.timedelta(1)\n",
    "    \n",
    "print([months[x-1] for x in sorted(ans)])"
   ]
  },
  {
   "cell_type": "markdown",
   "id": "bb235fdc",
   "metadata": {},
   "source": [
    "#### Question#4\n",
    "\n",
    "Remove empty lists\n",
    "Write a Python program to eliminate all empty lists from a given list of lists.\n",
    "The input will have a list of lists and the output should have the resulting list after eliminating empty lists from it.\n",
    "\n",
    "Sample Input:\n",
    "[[1,2,3],[],[4,5],[],[],[6,7,8]]\n",
    "\n",
    "Sample Output:\n",
    "[[1, 2, 3], [4, 5], [6, 7, 8]]\n",
    "\n",
    "A similar question was asked in a Data Scientist interview coding round."
   ]
  },
  {
   "cell_type": "code",
   "execution_count": 7,
   "id": "aeddf46e",
   "metadata": {},
   "outputs": [
    {
     "name": "stdout",
     "output_type": "stream",
     "text": [
      "[[1, 2, 3], [4, 5], [6, 7, 8]]\n"
     ]
    }
   ],
   "source": [
    "input_list=[[1,2,3],[],[4,5],[],[],[6,7,8]]\n",
    "\n",
    "final_list = [l for l in input_list if l] \n",
    "print(final_list)"
   ]
  },
  {
   "cell_type": "code",
   "execution_count": null,
   "id": "401a3992",
   "metadata": {},
   "outputs": [],
   "source": []
  },
  {
   "cell_type": "markdown",
   "id": "02874032",
   "metadata": {},
   "source": [
    "# Stack\n",
    "\n",
    "LIFO - last in first out\n",
    "\n",
    "basic functions-\n",
    "- peek()  - gets the element at the top of stack without remove it \n",
    "- size()\n",
    "- push()\n",
    "- pop()\n",
    "- IsEmpty()\n"
   ]
  },
  {
   "cell_type": "code",
   "execution_count": null,
   "id": "f22be891",
   "metadata": {},
   "outputs": [],
   "source": []
  },
  {
   "cell_type": "markdown",
   "id": "b203bf5b",
   "metadata": {},
   "source": [
    "### Balanced parenthesis\n",
    "\n",
    "- str = \"{[()]}\"   --> return true\n",
    "- str = \"{[]()[]\"  --> false"
   ]
  },
  {
   "cell_type": "code",
   "execution_count": null,
   "id": "1c515180",
   "metadata": {},
   "outputs": [],
   "source": []
  },
  {
   "cell_type": "markdown",
   "id": "9762d185",
   "metadata": {},
   "source": [
    "### Find 2 stacks are equal or not without altering stack or using extra array."
   ]
  },
  {
   "cell_type": "code",
   "execution_count": null,
   "id": "a32e4c00",
   "metadata": {},
   "outputs": [],
   "source": []
  },
  {
   "cell_type": "markdown",
   "id": "9b4619c4",
   "metadata": {},
   "source": [
    "### Check the right side greater number in given array"
   ]
  },
  {
   "cell_type": "code",
   "execution_count": null,
   "id": "045fa65f",
   "metadata": {},
   "outputs": [],
   "source": []
  }
 ],
 "metadata": {
  "kernelspec": {
   "display_name": "Python 3 (ipykernel)",
   "language": "python",
   "name": "python3"
  },
  "language_info": {
   "codemirror_mode": {
    "name": "ipython",
    "version": 3
   },
   "file_extension": ".py",
   "mimetype": "text/x-python",
   "name": "python",
   "nbconvert_exporter": "python",
   "pygments_lexer": "ipython3",
   "version": "3.9.7"
  }
 },
 "nbformat": 4,
 "nbformat_minor": 5
}
